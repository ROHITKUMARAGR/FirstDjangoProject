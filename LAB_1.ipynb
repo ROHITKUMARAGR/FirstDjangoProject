{
  "cells": [
    {
      "cell_type": "markdown",
      "metadata": {
        "id": "2YJxH5VNcYtp"
      },
      "source": [
        "# <center> IIIT Vadodara </center>\n",
        "## <center> Winter 2021-22 </center>\n",
        "## <center> CS 612/652, CS/IT 308 Machine Learning </center>\n",
        "## <center> Lab#1 INTRODUCTION </center>"
      ]
    },
    {
      "cell_type": "markdown",
      "metadata": {
        "id": "SC8rZl_fnw1d"
      },
      "source": [
        "## Basic of Numbers in python"
      ]
    },
    {
      "cell_type": "code",
      "execution_count": 1,
      "metadata": {
        "id": "Rr8W2uMznw1g",
        "outputId": "454873cd-2254-4d8b-e00b-888bc050eab0",
        "colab": {
          "base_uri": "https://localhost:8080/"
        }
      },
      "outputs": [
        {
          "output_type": "stream",
          "name": "stdout",
          "text": [
            "3 <class 'int'>\n"
          ]
        }
      ],
      "source": [
        "x = 3\n",
        "print (x, type(x))"
      ]
    },
    {
      "cell_type": "code",
      "execution_count": 2,
      "metadata": {
        "id": "SJouww7Inw1p",
        "outputId": "86057208-eb60-4164-9b2f-eee8224a8d5f",
        "colab": {
          "base_uri": "https://localhost:8080/"
        }
      },
      "outputs": [
        {
          "output_type": "stream",
          "name": "stdout",
          "text": [
            "4\n",
            "2\n",
            "6\n",
            "9\n"
          ]
        }
      ],
      "source": [
        "print (x + 1)   # Addition;\n",
        "print (x - 1)   # Subtraction;\n",
        "print (x * 2)   # Multiplication;\n",
        "print (x ** 2)  # Exponentiation;"
      ]
    },
    {
      "cell_type": "code",
      "execution_count": 3,
      "metadata": {
        "id": "nj14uZF2nw1z",
        "outputId": "7e324578-d4b6-481a-dfbb-7d52172398d3",
        "colab": {
          "base_uri": "https://localhost:8080/"
        }
      },
      "outputs": [
        {
          "output_type": "stream",
          "name": "stdout",
          "text": [
            "4\n",
            "8\n"
          ]
        }
      ],
      "source": [
        "x += 1\n",
        "print (x)  # Prints \"4\"\n",
        "x *= 2\n",
        "print (x)  # Prints \"8\""
      ]
    },
    {
      "cell_type": "code",
      "execution_count": 4,
      "metadata": {
        "id": "gUMeY7ILnw16",
        "outputId": "84055924-3187-4c59-f5ed-7782e405b203",
        "colab": {
          "base_uri": "https://localhost:8080/"
        }
      },
      "outputs": [
        {
          "output_type": "stream",
          "name": "stdout",
          "text": [
            "<class 'float'>\n",
            "2.5 3.5 5.0 6.25\n"
          ]
        }
      ],
      "source": [
        "y = 2.5\n",
        "print (type(y) )# Prints \"<type 'float'>\"\n",
        "print (y, y + 1, y * 2, y ** 2) # Prints \"2.5 3.5 5.0 6.25\""
      ]
    },
    {
      "cell_type": "markdown",
      "metadata": {
        "id": "qxvvHiItnw2H"
      },
      "source": [
        "Note that unlike many languages, Python does not have unary increment (x++) or decrement (x--) operators.\n",
        "\n",
        "Python also has built-in types for long integers and complex numbers; you can find all of the details in the [documentation](https://docs.python.org/2/library/stdtypes.html#numeric-types-int-float-long-complex)."
      ]
    },
    {
      "cell_type": "markdown",
      "metadata": {
        "id": "EPF5FeiybxYi"
      },
      "source": [
        "## Numpy \n",
        "Numpy is the core library for scientific computing in Python. It provides a high-performance multidimensional array object, and tools for working with these arrays. If you are already familiar with MATLAB,"
      ]
    },
    {
      "cell_type": "code",
      "execution_count": 5,
      "metadata": {
        "id": "zzuw0IDlb4uY"
      },
      "outputs": [],
      "source": [
        "import numpy as np"
      ]
    },
    {
      "cell_type": "markdown",
      "metadata": {
        "id": "UjZvGRYzb6xp"
      },
      "source": [
        "Find details of mathemetical function in numpy  at https://docs.scipy.org/doc/numpy-1.15.0/reference/routines.math.html"
      ]
    },
    {
      "cell_type": "markdown",
      "metadata": {
        "id": "WM95q6CkXwv6"
      },
      "source": [
        "## <font color='red'>1. Evaluate the expression $a^3+\\sqrt{bd}-4c$, where $a=1.2, b=2.3, c=4.5$ and $d=4$.</font> "
      ]
    },
    {
      "cell_type": "code",
      "execution_count": 10,
      "metadata": {
        "id": "3CI1OWaFYsyg",
        "outputId": "443ebe7b-70a4-41c6-a1b8-0442ac9b6980",
        "colab": {
          "base_uri": "https://localhost:8080/"
        }
      },
      "outputs": [
        {
          "output_type": "stream",
          "name": "stdout",
          "text": [
            "-13.23884982237938\n"
          ]
        }
      ],
      "source": [
        "a=1.2\n",
        "b=2.3\n",
        "c=4.5\n",
        "d=4\n",
        "print(a**3+((b*d)**(1/2))-(4*c))\n"
      ]
    },
    {
      "cell_type": "markdown",
      "metadata": {
        "id": "e_J4a3YEfe6P"
      },
      "source": [
        "## Numpy array indexing and array operations\n",
        "Help to create Numpy array: https://docs.scipy.org/doc/numpy-1.15.0/reference/generated/numpy.array.html#numpy.array\n",
        "\n",
        "Help to create Numpy array indexing:https://docs.scipy.org/doc/numpy-1.15.0/reference/arrays.indexing.html\n",
        "\n",
        "Help to create Numpy for matlab user:https://docs.scipy.org/doc/numpy/user/numpy-for-matlab-users.html\n"
      ]
    },
    {
      "cell_type": "markdown",
      "metadata": {
        "id": "3IPVZYK9dkxa"
      },
      "source": [
        "## <font color='red'>2. Consider the two matrices: </font>\n",
        "\n",
        "$A=\\begin{bmatrix}4 & -6 \\\\6 & 10\n",
        "\\end{bmatrix}$ $B=\\begin{bmatrix}6 & -13 \\\\3.4 & 16\n",
        "\\end{bmatrix}$.\n",
        "## <font color='red'>Find: (a) $A+B$ (b) $B^2$ (c) $AB$ (d) $B^TA^T$ (e) Replace the second column of $A$ with that of $B$. "
      ]
    },
    {
      "cell_type": "code",
      "execution_count": 16,
      "metadata": {
        "id": "w-nnu6l4gIY6",
        "outputId": "dfab6d27-c8b0-4751-c8bc-f88a72d1caf2",
        "colab": {
          "base_uri": "https://localhost:8080/"
        }
      },
      "outputs": [
        {
          "output_type": "stream",
          "name": "stdout",
          "text": [
            "[[ 10.  -19. ]\n",
            " [  9.4  26. ]]\n",
            "[[  -8.2 -286. ]\n",
            " [  74.8  211.8]]\n",
            "[[   3.6 -148. ]\n",
            " [  70.    82. ]]\n",
            "[[   3.6 -148. ]\n",
            " [  70.    82. ]]\n"
          ]
        }
      ],
      "source": [
        "A=np.array([[4,-6],[6,10]])\n",
        "B=np.array([[6,-13],[3.4,16]])\n",
        "print(A+B)\n",
        "C=np.matmul(B,B)\n",
        "print(C)\n",
        "D=np.matmul(A,B)\n",
        "print(D)\n",
        "A.transpose()\n",
        "B.transpose()\n",
        "print(np.matmul(A,B))"
      ]
    },
    {
      "cell_type": "markdown",
      "metadata": {
        "id": "AaDe3HVi-mgV"
      },
      "source": [
        "## Numpy : Linear *algebra*\n",
        "https://docs.scipy.org/doc/numpy-1.15.0/reference/routines.linalg.html"
      ]
    },
    {
      "cell_type": "markdown",
      "metadata": {
        "id": "QyptrBW578Se"
      },
      "source": [
        "## <font color='red'>3. Find the solution of the following set of linear algebraic equations:$$5x+6y+10z=4$$ $$-3x+14z=10$$ $$-7y+21z=0$$</font> "
      ]
    },
    {
      "cell_type": "code",
      "execution_count": 41,
      "metadata": {
        "id": "F6Ta5w348idj",
        "outputId": "fd068438-7431-488a-9a01-37ac2de19ddc",
        "colab": {
          "base_uri": "https://localhost:8080/"
        }
      },
      "outputs": [
        {
          "output_type": "stream",
          "name": "stdout",
          "text": [
            "[-1.45454545  1.20779221  0.4025974 ]\n"
          ]
        }
      ],
      "source": [
        "#write your code\n",
        "A=np.array([[5,6,10],[-3,0,14],[0,-7,21]])\n",
        "B=np.array([4,10,0])\n",
        "x=np.dot(np.linalg.inv(A),B)\n",
        "print(x)"
      ]
    },
    {
      "cell_type": "markdown",
      "metadata": {
        "id": "zhGD6rIYCJ8i"
      },
      "source": [
        "## <font color='red'>4. Find the solution of the following set of linear algebraic equations such that $\\Vert Ax-b\\Vert^2_2$is minimized:$$5x+6y+10z=4$$ $$-3x+14z=10$$ $$-7y+21z=0$$$$2x-y+45z=16$$</font> \n",
        "Hint: Use psudo inverse"
      ]
    },
    {
      "cell_type": "code",
      "execution_count": 42,
      "metadata": {
        "id": "HyVZ5bHKC6Lr",
        "outputId": "89fe79a8-95c5-4dca-cce5-11e418c49d6e",
        "colab": {
          "base_uri": "https://localhost:8080/"
        }
      },
      "outputs": [
        {
          "output_type": "stream",
          "name": "stdout",
          "text": [
            "[-1.42857143  1.08163265  0.26530612]\n"
          ]
        }
      ],
      "source": [
        "#write your code\n",
        "A=np.array([[5,6,10],[-3,0,14],[0,-7,21],[2,-1,45]])\n",
        "B=[4,10,0,6]\n",
        "x=np.dot(np.linalg.pinv(A),B)\n",
        "print(x)"
      ]
    },
    {
      "cell_type": "markdown",
      "metadata": {
        "id": "3B34NIubEbA-"
      },
      "source": [
        "## <font color='red'>5. create following two arrays:\n",
        "(a) Array of ones with 10 elements \n",
        "(b) Array a[1] = 2; a[2] = 3 and a[3] to a[10] are zero</font> "
      ]
    },
    {
      "cell_type": "code",
      "execution_count": 19,
      "metadata": {
        "id": "iu6GxTFAFZFP",
        "outputId": "509678f5-2b06-41ef-ef4e-19fcc6c5ac6e",
        "colab": {
          "base_uri": "https://localhost:8080/"
        }
      },
      "outputs": [
        {
          "output_type": "stream",
          "name": "stdout",
          "text": [
            "The value of A [1. 1. 1. 1. 1. 1. 1. 1. 1. 1.]\n",
            "The value of B [1. 3. 0. 0. 0. 0. 0. 0. 0. 0.]\n"
          ]
        }
      ],
      "source": [
        "#write code here\n",
        "A=np.ones(10)\n",
        "print(\"The value of A\",A)\n",
        "B=np.zeros(10)\n",
        "B[0]=1\n",
        "B[1]=3\n",
        "print('The value of B',B)"
      ]
    },
    {
      "cell_type": "markdown",
      "metadata": {
        "id": "OnPJvy9GH1H4"
      },
      "source": [
        "##Numpy: Statistics\n",
        "https://docs.scipy.org/doc/numpy-1.15.1/reference/routines.statistics.html\n",
        "\n",
        "For random sampling : https://docs.scipy.org/doc/numpy-1.15.0/reference/routines.random.html"
      ]
    },
    {
      "cell_type": "markdown",
      "metadata": {
        "id": "C_ODKpdbF758"
      },
      "source": [
        "## <font color='red'>6. Create two arrays indicating marks of students in two subjects. Get average vector of them.</font> "
      ]
    },
    {
      "cell_type": "code",
      "execution_count": 43,
      "metadata": {
        "id": "g-ndczyOGJdc",
        "outputId": "04a5e897-39dc-47d8-8b14-2b9281bf409f",
        "colab": {
          "base_uri": "https://localhost:8080/"
        }
      },
      "outputs": [
        {
          "output_type": "stream",
          "name": "stdout",
          "text": [
            "Maths Number Average 66.33333333333333\n",
            "Science Number  Average 74.55555555555556\n"
          ]
        }
      ],
      "source": [
        "#write code here\n",
        "Math=[90,80,79,45,23,45,67,89,79]\n",
        "Science=[80,68,77,88,55,90,76,78,59]\n",
        "Avg_Math=np.average(Math)\n",
        "Avg_Science=np.average(Science)\n",
        "print(\"Maths Number Average\",Avg_Math)\n",
        "print(\"Science Number  Average\",Avg_Science)"
      ]
    },
    {
      "cell_type": "markdown",
      "metadata": {
        "id": "3p0ybKFWbbZO"
      },
      "source": [
        "## Matplotlib: For Plot\n",
        "https://matplotlib.org/tutorials/introductory/pyplot.html#sphx-glr-tutorials-introductory-pyplot-py"
      ]
    },
    {
      "cell_type": "code",
      "execution_count": 21,
      "metadata": {
        "id": "5onZQOXoJDbZ"
      },
      "outputs": [],
      "source": [
        "import matplotlib.pyplot as plt\n",
        "%matplotlib inline\n"
      ]
    },
    {
      "cell_type": "markdown",
      "metadata": {
        "id": "Q8aC6tu_IQGE"
      },
      "source": [
        "## <font color='red'>7. Plot the following linear functions:\n",
        "\n",
        "1.   $y=2x+3 $ from $-10\\le x\\le 10$ \n",
        "2.   $y=x-15 $ from $-10\\le x\\le 10$\n",
        "<font>\n"
      ]
    },
    {
      "cell_type": "code",
      "execution_count": 22,
      "metadata": {
        "id": "3BPpQrpZnw-q",
        "outputId": "bd03580f-8285-4149-f70d-b5b225618099",
        "colab": {
          "base_uri": "https://localhost:8080/",
          "height": 295
        }
      },
      "outputs": [
        {
          "output_type": "display_data",
          "data": {
            "image/png": "[encoded data removed]",
            "text/plain": [
              "<Figure size 432x288 with 1 Axes>"
            ]
          },
          "metadata": {
            "needs_background": "light"
          }
        }
      ],
      "source": [
        "# write code here for 1\n",
        "x=np.linspace(-10,10,100)\n",
        "y=2*x+3\n",
        "plt.plot(x,y,'-r')\n",
        "plt.xlabel('X-Axis')\n",
        "plt.ylabel('Y-Axis')\n",
        "plt.title('Graph on y=2x+3')\n",
        "plt.grid()\n",
        "plt.show()"
      ]
    },
    {
      "cell_type": "code",
      "execution_count": 23,
      "metadata": {
        "id": "4i-cG2VKKBUN",
        "outputId": "1a2ed769-7531-4d39-cff9-c4a2b0a16721",
        "colab": {
          "base_uri": "https://localhost:8080/",
          "height": 295
        }
      },
      "outputs": [
        {
          "output_type": "display_data",
          "data": {
            "image/png": "[encoded data removed]",
            "text/plain": [
              "<Figure size 432x288 with 1 Axes>"
            ]
          },
          "metadata": {
            "needs_background": "light"
          }
        }
      ],
      "source": [
        "# write code here for 2\n",
        "x=np.linspace(-10,10,200)\n",
        "y=x-15\n",
        "plt.plot(x,y,'-r')\n",
        "plt.xlabel('X-Axis')\n",
        "plt.ylabel('Y-Axis')\n",
        "plt.title('Graph on y=x-15')\n",
        "plt.grid()\n",
        "plt.show()"
      ]
    },
    {
      "cell_type": "markdown",
      "metadata": {
        "id": "jdlxVdsxcYuD"
      },
      "source": [
        "## <font color='red'>8. Plot the following non-linear functions:\n",
        "\n",
        "1.   $y=2x^2+3x+1 $ from $-10\\le x\\le 10$ \n",
        "2.   $y=x^3+1 $ from $-10\\le x\\le 10$\n",
        "<font>"
      ]
    },
    {
      "cell_type": "code",
      "execution_count": 24,
      "metadata": {
        "id": "07HnsfnSdjqk",
        "outputId": "17fcdd8a-1a72-4fc4-95a3-deabb9ca0a86",
        "colab": {
          "base_uri": "https://localhost:8080/",
          "height": 295
        }
      },
      "outputs": [
        {
          "output_type": "display_data",
          "data": {
            "image/png": "[encoded data removed]",
            "text/plain": [
              "<Figure size 432x288 with 1 Axes>"
            ]
          },
          "metadata": {
            "needs_background": "light"
          }
        }
      ],
      "source": [
        "# write code here for 3\n",
        "x=np.linspace(-10,10,100)\n",
        "y=2*x*x+3*x+1\n",
        "plt.plot(x,y,'-r')\n",
        "plt.xlabel('x-axis')\n",
        "plt.ylabel('y-axis')\n",
        "plt.title('Non-linear graph on y=2x2+3x+1')\n",
        "plt.grid()\n",
        "plt.show()"
      ]
    },
    {
      "cell_type": "code",
      "execution_count": 44,
      "metadata": {
        "id": "zH53q0TcdkPv",
        "outputId": "ccacdfd2-55d4-4bc4-b979-e336854e06a4",
        "colab": {
          "base_uri": "https://localhost:8080/",
          "height": 295
        }
      },
      "outputs": [
        {
          "output_type": "display_data",
          "data": {
            "image/png": "[encoded data removed]",
            "text/plain": [
              "<Figure size 432x288 with 1 Axes>"
            ]
          },
          "metadata": {
            "needs_background": "light"
          }
        }
      ],
      "source": [
        "# write code here for 4\n",
        "x=np.linspace(-10,10,100)\n",
        "y=np.power(x,3)+1\n",
        "plt.plot(x,y,'-g')\n",
        "plt.xlabel(\"X-axis\")\n",
        "plt.ylabel(\"Y-axis\")\n",
        "plt.title('Graph on x^3+1')\n",
        "plt.show()"
      ]
    },
    {
      "cell_type": "markdown",
      "metadata": {
        "id": "GobP2IePGThL"
      },
      "source": [
        "## <font color='red'>9. Write code to verify whether the given vectors are linearly independent or not.\n",
        "v1 = [6 0 3 1 4 2];\n",
        "v2 = [0 -1 2 7 0 5];\n",
        "v3 = [12 3 0 -19 8 -11].</font> \n",
        "\n",
        "Hint: You can use matrix rank or rref form with help of numpy.linalg library "
      ]
    },
    {
      "cell_type": "code",
      "execution_count": 26,
      "metadata": {
        "id": "hYOPaUUqG0-Y",
        "outputId": "65dcceb9-3e65-4bbb-e899-ebb2c5c4f0ff",
        "colab": {
          "base_uri": "https://localhost:8080/"
        }
      },
      "outputs": [
        {
          "output_type": "stream",
          "name": "stdout",
          "text": [
            "[[  6   0   3   1   4   5]\n",
            " [  0  -1   2   7   0   5]\n",
            " [ 12   3   0 -19   8 -11]]\n",
            "Max_rank=3\n",
            "Matrix_rank=3\n",
            "The given vectors are linearly independent with their matrix having a full rank.\n"
          ]
        }
      ],
      "source": [
        "#write code here\n",
        "matrix=np.array([[6,0,3,1,4,5],[0,-1,2,7,0,5],[12,3,0,-19,8,-11]])\n",
        "print(matrix)\n",
        "max_rank = min(matrix.shape[0], matrix.shape[1])\n",
        "print(\"Max_rank=\"+str(max_rank))\n",
        "matrix_rank = np.linalg.matrix_rank(matrix)\n",
        "print(\"Matrix_rank=\"+str(matrix_rank))\n",
        "if matrix_rank < max_rank:\n",
        "  print(f'The given vectors are linearly dependent with their matrix having a rank of {matrix_rank}.')\n",
        "else:\n",
        "  print(\"The given vectors are linearly independent with their matrix having a full rank.\")"
      ]
    },
    {
      "cell_type": "markdown",
      "metadata": {
        "id": "dHjk5I0QM3S0"
      },
      "source": [
        "## <font color='red'>10. For real symmetric matrix.  \n",
        "1.   Find the Eigen values and eigen vectors\n",
        "2.   Verify properties of Eigen values and Eigen vector.</font>\n",
        "\n",
        "As example, $A=\\begin{bmatrix}1 & 2 & 3 \\\\2 & 5 & 6\\\\3 & 6 & 7\n",
        "\\end{bmatrix}$"
      ]
    },
    {
      "cell_type": "code",
      "execution_count": 27,
      "metadata": {
        "id": "pIwy4pqQN1cn",
        "outputId": "faf95d72-434b-45cf-f641-33b52964ac78",
        "colab": {
          "base_uri": "https://localhost:8080/"
        }
      },
      "outputs": [
        {
          "output_type": "stream",
          "name": "stdout",
          "text": [
            "Eigen Values [13.14061745  0.32610415 -0.4667216 ]\n",
            "Eigen vector [[-0.28323481 -0.68784863 -0.66831303]\n",
            " [-0.61312867  0.66571204 -0.42532424]\n",
            " [-0.73746272 -0.28929525  0.61029254]]\n",
            "Av [[-3.72188033 -0.22431029  0.31191613]\n",
            " [-8.05688934  0.21709146  0.19850801]\n",
            " [-9.69071555 -0.09434038 -0.28483671]]\n",
            "wv [[-3.72188033 -0.22431029  0.31191613]\n",
            " [-8.05688934  0.21709146  0.19850801]\n",
            " [-9.69071555 -0.09434038 -0.28483671]]\n"
          ]
        }
      ],
      "source": [
        "#write code here\n",
        "A=np.array([[1,2,3],[2,5 ,6],[3,6,7]])\n",
        "w,v=np.linalg.eig(A)\n",
        "print(\"Eigen Values \"+str(w))\n",
        "print(\"Eigen vector \"+str(v))\n",
        "#Verifying Av=wv where v is eigen vector and w is eigen value\n",
        "print(\"Av \"+str(np.dot(A,v)))\n",
        "print(\"wv \"+str(w*v))\n",
        "#since Av and wv are equal we say that its verifying the property of eigen value and eigen vectorS"
      ]
    },
    {
      "cell_type": "markdown",
      "metadata": {
        "id": "167i2Ni7X1oZ"
      },
      "source": [
        "## Python Function:\n",
        "https://www.tutorialspoint.com/python/python_functions.htm"
      ]
    },
    {
      "cell_type": "markdown",
      "metadata": {
        "id": "iauUBzH2SKPk"
      },
      "source": [
        "## <font color='red'>11. Write code for the following:\n",
        "  \n",
        "\n",
        "1.   Create a column vector with 10 values of temperature in degree centigrade $C^\\circ$\n",
        "2.   Convert each of the temperature values in degree Fahrenheit using the formula $$F^\\circ=\\frac{9}{2}C^\\circ+32$$\n",
        "1.   Make the final matrix with temperature values in $C^\\circ$ as the first column and in F as the second column.\n",
        "<font>\n",
        "\n"
      ]
    },
    {
      "cell_type": "code",
      "execution_count": 34,
      "metadata": {
        "id": "RDtWZvYuTsPS"
      },
      "outputs": [],
      "source": [
        "def ctof(c):\n",
        "  #write code here to convert c to f\n",
        "   f=4.5*c+32\n",
        "   return f"
      ]
    },
    {
      "cell_type": "code",
      "execution_count": 29,
      "metadata": {
        "id": "DqwYVjmWUz4H",
        "outputId": "86ae0692-0d79-4c4a-d2d8-886e23226a09",
        "colab": {
          "base_uri": "https://localhost:8080/"
        }
      },
      "outputs": [
        {
          "output_type": "stream",
          "name": "stdout",
          "text": [
            "[[60]\n",
            " [56]\n",
            " [ 0]\n",
            " [41]\n",
            " [52]\n",
            " [60]\n",
            " [35]\n",
            " [89]\n",
            " [23]\n",
            " [34]]\n"
          ]
        }
      ],
      "source": [
        "#write code for 1\n",
        "A=np.array([[60],[56],[0],[41],[52],[60],[35],[89],[23],[34]])\n",
        "print(A)\n"
      ]
    },
    {
      "cell_type": "code",
      "execution_count": 35,
      "metadata": {
        "id": "--ytBr4EYEL_",
        "outputId": "90f59452-671f-44c7-c610-51b3cc504b69",
        "colab": {
          "base_uri": "https://localhost:8080/"
        }
      },
      "outputs": [
        {
          "output_type": "stream",
          "name": "stdout",
          "text": [
            "[[302. ]\n",
            " [284. ]\n",
            " [ 32. ]\n",
            " [216.5]\n",
            " [266. ]\n",
            " [302. ]\n",
            " [189.5]\n",
            " [432.5]\n",
            " [135.5]\n",
            " [185. ]]\n"
          ]
        }
      ],
      "source": [
        "#write code for 2\n",
        "f=ctof(A)\n",
        "print(f)"
      ]
    },
    {
      "cell_type": "code",
      "execution_count": 36,
      "metadata": {
        "id": "jHbry5XnYNpN",
        "outputId": "7c2eb344-c65c-4367-f183-513a437d5351",
        "colab": {
          "base_uri": "https://localhost:8080/"
        }
      },
      "outputs": [
        {
          "output_type": "execute_result",
          "data": {
            "text/plain": [
              "array([[ 60. , 302. ],\n",
              "       [ 56. , 284. ],\n",
              "       [  0. ,  32. ],\n",
              "       [ 41. , 216.5],\n",
              "       [ 52. , 266. ],\n",
              "       [ 60. , 302. ],\n",
              "       [ 35. , 189.5],\n",
              "       [ 89. , 432.5],\n",
              "       [ 23. , 135.5],\n",
              "       [ 34. , 185. ]])"
            ]
          },
          "metadata": {},
          "execution_count": 36
        }
      ],
      "source": [
        "#write code for 3\n",
        "np.concatenate([A,f],axis=1)"
      ]
    },
    {
      "cell_type": "markdown",
      "metadata": {
        "id": "7R2JhXrrY9-2"
      },
      "source": [
        "## Python : Control statements\n",
        "if else: https://www.w3schools.com/python/python_conditions.asp\n",
        "\n",
        "while loop : https://www.w3schools.com/python/python_while_loops.asp\n",
        "\n",
        "for loop : https://www.w3schools.com/python/python_for_loops.asp"
      ]
    },
    {
      "cell_type": "markdown",
      "metadata": {
        "id": "ER-fUvoFYir-"
      },
      "source": [
        "## <font color='red'>12. Determine the probability of 3 heads in 4 tosses of a coin with probability of head being $p=0.75$. Use a relative frequency interpretation of probability to yield the result."
      ]
    },
    {
      "cell_type": "code",
      "execution_count": 37,
      "metadata": {
        "id": "80ti1ZQTY8UF",
        "outputId": "c2b5a7b2-bde8-4de8-ea3e-999839863130",
        "colab": {
          "base_uri": "https://localhost:8080/"
        }
      },
      "outputs": [
        {
          "output_type": "stream",
          "name": "stdout",
          "text": [
            "the probablity is 0.412\n"
          ]
        }
      ],
      "source": [
        "#write code here\n",
        "def head3_counting(): #function for counting 3 head\n",
        "  count=0\n",
        "  number=0\n",
        "  for i in range(1,4) :\n",
        "    if np.random.rand() <=0.75 : #tossing coin with head probability=0.75\n",
        "      count=count+1 #count of head\n",
        "    else :\n",
        "      count=count\n",
        "  if count==3 : #3 heads comes as output\n",
        "    number=1\n",
        "  return number\n",
        "\n",
        "# probalbility determination in 1000 trials\n",
        "outcome=0\n",
        "for j in range(1,1000) :\n",
        "  outcome=outcome+head3_counting() # no of times 3 heads appear\n",
        "p=outcome/1000\n",
        "print(\"the probablity is \"+str(p))\n",
        "       "
      ]
    },
    {
      "cell_type": "markdown",
      "metadata": {
        "id": "uqQyo3jNd3Df"
      },
      "source": [
        "## <font color='red'>13. Write a program that will add all the numbers corresponding to the even indices of an array. Use that program to find the sum of all even integers from 1 to 1000.<font>"
      ]
    },
    {
      "cell_type": "code",
      "execution_count": 38,
      "metadata": {
        "id": "JzmE6DJJeYvH"
      },
      "outputs": [],
      "source": [
        "#hint: Write your program as follows: where x is the input vector, and y is the sum of all the numbers corresponding to the even indices of x. \n",
        "def addeven(x):\n",
        "  #write code here\n",
        "  l=len(x)\n",
        "  y=0\n",
        "  for i in range(0,l,2) :\n",
        "    y=y+x[i]\n",
        "  #write code here\n",
        "  sum=y\n",
        "  return sum"
      ]
    },
    {
      "cell_type": "code",
      "execution_count": 39,
      "metadata": {
        "id": "swRSzjrUeu3D",
        "outputId": "2fe9e3d4-d70d-4f1d-e307-58809f15e153",
        "colab": {
          "base_uri": "https://localhost:8080/"
        }
      },
      "outputs": [
        {
          "output_type": "execute_result",
          "data": {
            "text/plain": [
              "250500"
            ]
          },
          "metadata": {},
          "execution_count": 39
        }
      ],
      "source": [
        "#\n",
        "a=np.arange(2,1001)\n",
        "addeven(a)"
      ]
    },
    {
      "cell_type": "markdown",
      "metadata": {
        "id": "VEF3kNXLcYuK"
      },
      "source": [
        "## <font color='red'>14. Write a program to generate random number.<font>\n",
        "    Hint: use Linear Congruential Generator. link: https://en.wikipedia.org/wiki/Linear_congruential_generator"
      ]
    },
    {
      "cell_type": "code",
      "execution_count": 40,
      "metadata": {
        "id": "Ynr6k8kIcYuK",
        "outputId": "67887e58-33fd-4c9c-8f1d-3cf80e940830",
        "colab": {
          "base_uri": "https://localhost:8080/",
          "height": 282
        }
      },
      "outputs": [
        {
          "output_type": "stream",
          "name": "stdout",
          "text": [
            "5 4 1 6 0 3 5 4 1 6 0 3 5 4 1 6 0 3 5 4 1 6 0 3 5 4 1 6 0 3 5 4 1 6 0 3 5 4 1 6 0 3 5 4 1 6 0 3 5 4 1 6 0 3 "
          ]
        },
        {
          "output_type": "display_data",
          "data": {
            "image/png": "[encoded data removed]",
            "text/plain": [
              "<Figure size 432x288 with 1 Axes>"
            ]
          },
          "metadata": {
            "needs_background": "light"
          }
        }
      ],
      "source": [
        "import numpy as np\n",
        "import matplotlib.pyplot as plt\n",
        "import matplotlib.mlab as mlab\n",
        "def linear_congruential_generator(X,m,a,c,randomNums,noofRandomNums):\n",
        "  randomNums[0]=X\n",
        "  for i in range(1,noofRandomNums):\n",
        "    randomNums[i] = ((randomNums[i-1] * a) + c)%m\n",
        "\n",
        "X = 5\n",
        "m = 7\n",
        "a = 3\n",
        "c = 3\n",
        "noofRandomNums = 54\n",
        "randomNums = [0]*(noofRandomNums)\n",
        "linear_congruential_generator(X,m,a,c,randomNums,noofRandomNums)\n",
        "for i in randomNums:\n",
        "  print(i,end=' ')\n",
        "num_bins = 5\n",
        "n,bins,patches = plt.hist(randomNums,num_bins,facecolor='green',alpha=0.5)\n",
        "plt.grid()\n",
        "plt.show()"
      ]
    }
  ],
  "metadata": {
    "accelerator": "GPU",
    "colab": {
      "collapsed_sections": [],
      "name": "LAB_1.ipynb",
      "provenance": []
    },
    "kernelspec": {
      "display_name": "Python 3",
      "language": "python",
      "name": "python3"
    },
    "language_info": {
      "codemirror_mode": {
        "name": "ipython",
        "version": 3
      },
      "file_extension": ".py",
      "mimetype": "text/x-python",
      "name": "python",
      "nbconvert_exporter": "python",
      "pygments_lexer": "ipython3",
      "version": "3.8.5"
    }
  },
  "nbformat": 4,
  "nbformat_minor": 0
}